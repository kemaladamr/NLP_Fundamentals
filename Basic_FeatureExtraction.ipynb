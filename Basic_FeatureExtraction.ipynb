{
  "nbformat": 4,
  "nbformat_minor": 0,
  "metadata": {
    "colab": {
      "name": "Basic_FeatureExtraction.ipynb",
      "provenance": [],
      "collapsed_sections": [],
      "authorship_tag": "ABX9TyMxtLezqFmoIeXwHNG7fSQF",
      "include_colab_link": true
    },
    "kernelspec": {
      "name": "python3",
      "display_name": "Python 3"
    },
    "language_info": {
      "name": "python"
    }
  },
  "cells": [
    {
      "cell_type": "markdown",
      "metadata": {
        "id": "view-in-github",
        "colab_type": "text"
      },
      "source": [
        "<a href=\"https://colab.research.google.com/github/kemaladamr/NLP_Fundamentals/blob/main/Basic_FeatureExtraction.ipynb\" target=\"_parent\"><img src=\"https://colab.research.google.com/assets/colab-badge.svg\" alt=\"Open In Colab\"/></a>"
      ]
    },
    {
      "cell_type": "markdown",
      "source": [
        "## Text Cleaning and Tokenization"
      ],
      "metadata": {
        "id": "uTq7EJGW8OfF"
      }
    },
    {
      "cell_type": "code",
      "execution_count": 1,
      "metadata": {
        "id": "AHeXHFJJF5HD"
      },
      "outputs": [],
      "source": [
        "import re"
      ]
    },
    {
      "cell_type": "code",
      "source": [
        "sentence = 'Sunil tweeted, \"Witnessing 70th Republic Day of India from Rajpath, \\\n",
        "New Delhi. Mesmerizing performance by Indian Army! Awesome airshow! @india_official \\\n",
        "@indian_army #India #70thRepublic_Day. For more photos ping me sunil@photoking.com :)\"'"
      ],
      "metadata": {
        "id": "WSFxqJVf8T1b"
      },
      "execution_count": 2,
      "outputs": []
    },
    {
      "cell_type": "code",
      "source": [
        "re.sub(r'([^\\s\\w]|_)+', ' ', sentence).split()"
      ],
      "metadata": {
        "colab": {
          "base_uri": "https://localhost:8080/"
        },
        "id": "9cxxv_0H833K",
        "outputId": "f03f1389-9ddd-41fc-e2f9-ad500804a07c"
      },
      "execution_count": 3,
      "outputs": [
        {
          "output_type": "execute_result",
          "data": {
            "text/plain": [
              "['Sunil',\n",
              " 'tweeted',\n",
              " 'Witnessing',\n",
              " '70th',\n",
              " 'Republic',\n",
              " 'Day',\n",
              " 'of',\n",
              " 'India',\n",
              " 'from',\n",
              " 'Rajpath',\n",
              " 'New',\n",
              " 'Delhi',\n",
              " 'Mesmerizing',\n",
              " 'performance',\n",
              " 'by',\n",
              " 'Indian',\n",
              " 'Army',\n",
              " 'Awesome',\n",
              " 'airshow',\n",
              " 'india',\n",
              " 'official',\n",
              " 'indian',\n",
              " 'army',\n",
              " 'India',\n",
              " '70thRepublic',\n",
              " 'Day',\n",
              " 'For',\n",
              " 'more',\n",
              " 'photos',\n",
              " 'ping',\n",
              " 'me',\n",
              " 'sunil',\n",
              " 'photoking',\n",
              " 'com']"
            ]
          },
          "metadata": {},
          "execution_count": 3
        }
      ]
    },
    {
      "cell_type": "markdown",
      "source": [
        "## Extracting n-grams"
      ],
      "metadata": {
        "id": "6hUc41Cw9cbL"
      }
    },
    {
      "cell_type": "code",
      "source": [
        "def n_gram_extractor(sentence, n):\n",
        "    tokens = re.sub(r'([^\\s\\w]|_)+', ' ', sentence).split()\n",
        "    for i in range(len(tokens)-n+1):\n",
        "        print(tokens[i:i+n])"
      ],
      "metadata": {
        "id": "9sdM5fVI9JUA"
      },
      "execution_count": 4,
      "outputs": []
    },
    {
      "cell_type": "markdown",
      "source": [
        "bi-grams"
      ],
      "metadata": {
        "id": "e0i-FcC4-QrQ"
      }
    },
    {
      "cell_type": "code",
      "source": [
        "n_gram_extractor('The cute little boy is playing with the kitten.', 2)"
      ],
      "metadata": {
        "colab": {
          "base_uri": "https://localhost:8080/"
        },
        "id": "aGUaWHQV-Gi0",
        "outputId": "2c5fa334-94d3-409a-9c84-264f31a0ca22"
      },
      "execution_count": 5,
      "outputs": [
        {
          "output_type": "stream",
          "name": "stdout",
          "text": [
            "['The', 'cute']\n",
            "['cute', 'little']\n",
            "['little', 'boy']\n",
            "['boy', 'is']\n",
            "['is', 'playing']\n",
            "['playing', 'with']\n",
            "['with', 'the']\n",
            "['the', 'kitten']\n"
          ]
        }
      ]
    },
    {
      "cell_type": "markdown",
      "source": [
        "tri-grams"
      ],
      "metadata": {
        "id": "4aWExaU9-WI2"
      }
    },
    {
      "cell_type": "code",
      "source": [
        "n_gram_extractor('The cute little boy is playing with the kitten.', 3)"
      ],
      "metadata": {
        "colab": {
          "base_uri": "https://localhost:8080/"
        },
        "id": "5ER2Io8A-Ntf",
        "outputId": "0e1490a6-ab7c-4863-c8af-183a275b283d"
      },
      "execution_count": 6,
      "outputs": [
        {
          "output_type": "stream",
          "name": "stdout",
          "text": [
            "['The', 'cute', 'little']\n",
            "['cute', 'little', 'boy']\n",
            "['little', 'boy', 'is']\n",
            "['boy', 'is', 'playing']\n",
            "['is', 'playing', 'with']\n",
            "['playing', 'with', 'the']\n",
            "['with', 'the', 'kitten']\n"
          ]
        }
      ]
    },
    {
      "cell_type": "code",
      "source": [
        "from nltk import ngrams\n",
        "list(ngrams('The cute little boy is playing with the kitten.'.split(), 2))"
      ],
      "metadata": {
        "colab": {
          "base_uri": "https://localhost:8080/"
        },
        "id": "mwmZmC77-Yqb",
        "outputId": "44823659-26ef-4253-fb61-bb7afcc4b2e9"
      },
      "execution_count": 7,
      "outputs": [
        {
          "output_type": "execute_result",
          "data": {
            "text/plain": [
              "[('The', 'cute'),\n",
              " ('cute', 'little'),\n",
              " ('little', 'boy'),\n",
              " ('boy', 'is'),\n",
              " ('is', 'playing'),\n",
              " ('playing', 'with'),\n",
              " ('with', 'the'),\n",
              " ('the', 'kitten.')]"
            ]
          },
          "metadata": {},
          "execution_count": 7
        }
      ]
    },
    {
      "cell_type": "code",
      "source": [
        "list(ngrams('The cute little boy is playing with the kitten.'.split(), 3))"
      ],
      "metadata": {
        "colab": {
          "base_uri": "https://localhost:8080/"
        },
        "id": "CspsgLqK-pY8",
        "outputId": "d606affe-dd86-4ac5-c782-c5ef1b65f5ce"
      },
      "execution_count": 8,
      "outputs": [
        {
          "output_type": "execute_result",
          "data": {
            "text/plain": [
              "[('The', 'cute', 'little'),\n",
              " ('cute', 'little', 'boy'),\n",
              " ('little', 'boy', 'is'),\n",
              " ('boy', 'is', 'playing'),\n",
              " ('is', 'playing', 'with'),\n",
              " ('playing', 'with', 'the'),\n",
              " ('with', 'the', 'kitten.')]"
            ]
          },
          "metadata": {},
          "execution_count": 8
        }
      ]
    },
    {
      "cell_type": "code",
      "source": [
        "import nltk\n",
        "nltk.download('punkt')"
      ],
      "metadata": {
        "colab": {
          "base_uri": "https://localhost:8080/"
        },
        "id": "OecyHD6x_IxM",
        "outputId": "3a5efd09-9220-412c-f576-4f2bba024c67"
      },
      "execution_count": 9,
      "outputs": [
        {
          "output_type": "stream",
          "name": "stdout",
          "text": [
            "[nltk_data] Downloading package punkt to /root/nltk_data...\n",
            "[nltk_data]   Package punkt is already up-to-date!\n"
          ]
        },
        {
          "output_type": "execute_result",
          "data": {
            "text/plain": [
              "True"
            ]
          },
          "metadata": {},
          "execution_count": 9
        }
      ]
    },
    {
      "cell_type": "code",
      "source": [
        "from textblob import TextBlob\n",
        "blob = TextBlob('The cute little boy is playing with the kitten.')\n",
        "blob.ngrams(n=2)"
      ],
      "metadata": {
        "colab": {
          "base_uri": "https://localhost:8080/"
        },
        "id": "k5Wh7s-5-v43",
        "outputId": "f235fea5-bb42-41cd-f33d-326a9ba9414f"
      },
      "execution_count": 10,
      "outputs": [
        {
          "output_type": "execute_result",
          "data": {
            "text/plain": [
              "[WordList(['The', 'cute']),\n",
              " WordList(['cute', 'little']),\n",
              " WordList(['little', 'boy']),\n",
              " WordList(['boy', 'is']),\n",
              " WordList(['is', 'playing']),\n",
              " WordList(['playing', 'with']),\n",
              " WordList(['with', 'the']),\n",
              " WordList(['the', 'kitten'])]"
            ]
          },
          "metadata": {},
          "execution_count": 10
        }
      ]
    },
    {
      "cell_type": "code",
      "source": [
        "blob.ngrams(n=3)"
      ],
      "metadata": {
        "colab": {
          "base_uri": "https://localhost:8080/"
        },
        "id": "p8yc_UAz_CKk",
        "outputId": "661718c7-fc6e-4a42-f4d1-a5b54c7bc709"
      },
      "execution_count": 11,
      "outputs": [
        {
          "output_type": "execute_result",
          "data": {
            "text/plain": [
              "[WordList(['The', 'cute', 'little']),\n",
              " WordList(['cute', 'little', 'boy']),\n",
              " WordList(['little', 'boy', 'is']),\n",
              " WordList(['boy', 'is', 'playing']),\n",
              " WordList(['is', 'playing', 'with']),\n",
              " WordList(['playing', 'with', 'the']),\n",
              " WordList(['with', 'the', 'kitten'])]"
            ]
          },
          "metadata": {},
          "execution_count": 11
        }
      ]
    },
    {
      "cell_type": "markdown",
      "source": [
        "## Tokenizing Texts with Keras and TextBlob"
      ],
      "metadata": {
        "id": "DukQIFKw_cE1"
      }
    },
    {
      "cell_type": "code",
      "source": [
        "sentence"
      ],
      "metadata": {
        "colab": {
          "base_uri": "https://localhost:8080/",
          "height": 70
        },
        "id": "jH7KQs7G_U6B",
        "outputId": "9974bbc6-cb54-46a4-9c78-2f0efdd778c0"
      },
      "execution_count": 12,
      "outputs": [
        {
          "output_type": "execute_result",
          "data": {
            "application/vnd.google.colaboratory.intrinsic+json": {
              "type": "string"
            },
            "text/plain": [
              "'Sunil tweeted, \"Witnessing 70th Republic Day of India from Rajpath, New Delhi. Mesmerizing performance by Indian Army! Awesome airshow! @india_official @indian_army #India #70thRepublic_Day. For more photos ping me sunil@photoking.com :)\"'"
            ]
          },
          "metadata": {},
          "execution_count": 12
        }
      ]
    },
    {
      "cell_type": "code",
      "source": [
        "from keras.preprocessing.text import text_to_word_sequence"
      ],
      "metadata": {
        "id": "btEPwB3v_jLB"
      },
      "execution_count": 13,
      "outputs": []
    },
    {
      "cell_type": "code",
      "source": [
        "text_to_word_sequence(sentence)"
      ],
      "metadata": {
        "colab": {
          "base_uri": "https://localhost:8080/"
        },
        "id": "vGxYFCpN_vG0",
        "outputId": "8087afad-b836-4429-f27a-63a4679a0fea"
      },
      "execution_count": 14,
      "outputs": [
        {
          "output_type": "execute_result",
          "data": {
            "text/plain": [
              "['sunil',\n",
              " 'tweeted',\n",
              " 'witnessing',\n",
              " '70th',\n",
              " 'republic',\n",
              " 'day',\n",
              " 'of',\n",
              " 'india',\n",
              " 'from',\n",
              " 'rajpath',\n",
              " 'new',\n",
              " 'delhi',\n",
              " 'mesmerizing',\n",
              " 'performance',\n",
              " 'by',\n",
              " 'indian',\n",
              " 'army',\n",
              " 'awesome',\n",
              " 'airshow',\n",
              " 'india',\n",
              " 'official',\n",
              " 'indian',\n",
              " 'army',\n",
              " 'india',\n",
              " '70threpublic',\n",
              " 'day',\n",
              " 'for',\n",
              " 'more',\n",
              " 'photos',\n",
              " 'ping',\n",
              " 'me',\n",
              " 'sunil',\n",
              " 'photoking',\n",
              " 'com']"
            ]
          },
          "metadata": {},
          "execution_count": 14
        }
      ]
    },
    {
      "cell_type": "code",
      "source": [
        "blob = TextBlob(sentence)\n",
        "blob.words"
      ],
      "metadata": {
        "colab": {
          "base_uri": "https://localhost:8080/"
        },
        "id": "lxFwKa4m_xw_",
        "outputId": "f7bf4b29-99ba-4bc7-aaaa-c0c74aaeb700"
      },
      "execution_count": 15,
      "outputs": [
        {
          "output_type": "execute_result",
          "data": {
            "text/plain": [
              "WordList(['Sunil', 'tweeted', 'Witnessing', '70th', 'Republic', 'Day', 'of', 'India', 'from', 'Rajpath', 'New', 'Delhi', 'Mesmerizing', 'performance', 'by', 'Indian', 'Army', 'Awesome', 'airshow', 'india_official', 'indian_army', 'India', '70thRepublic_Day', 'For', 'more', 'photos', 'ping', 'me', 'sunil', 'photoking.com'])"
            ]
          },
          "metadata": {},
          "execution_count": 15
        }
      ]
    },
    {
      "cell_type": "markdown",
      "source": [
        "## Tokenizing Text using Various Tokenizer"
      ],
      "metadata": {
        "id": "KBWTylRmAK5b"
      }
    },
    {
      "cell_type": "code",
      "source": [
        "sentence"
      ],
      "metadata": {
        "colab": {
          "base_uri": "https://localhost:8080/",
          "height": 70
        },
        "id": "qmU2SqyN_6oU",
        "outputId": "5b5f1639-c5de-43e0-b0cc-86f6caec37d2"
      },
      "execution_count": 16,
      "outputs": [
        {
          "output_type": "execute_result",
          "data": {
            "application/vnd.google.colaboratory.intrinsic+json": {
              "type": "string"
            },
            "text/plain": [
              "'Sunil tweeted, \"Witnessing 70th Republic Day of India from Rajpath, New Delhi. Mesmerizing performance by Indian Army! Awesome airshow! @india_official @indian_army #India #70thRepublic_Day. For more photos ping me sunil@photoking.com :)\"'"
            ]
          },
          "metadata": {},
          "execution_count": 16
        }
      ]
    },
    {
      "cell_type": "code",
      "source": [
        "from nltk.tokenize import TweetTokenizer\n",
        "tweet_tokenizer = TweetTokenizer()\n",
        "tweet_tokenizer.tokenize(sentence)"
      ],
      "metadata": {
        "colab": {
          "base_uri": "https://localhost:8080/"
        },
        "id": "zimu5gYPARiW",
        "outputId": "82882f70-8aca-4077-eec6-4e378885865a"
      },
      "execution_count": 17,
      "outputs": [
        {
          "output_type": "execute_result",
          "data": {
            "text/plain": [
              "['Sunil',\n",
              " 'tweeted',\n",
              " ',',\n",
              " '\"',\n",
              " 'Witnessing',\n",
              " '70th',\n",
              " 'Republic',\n",
              " 'Day',\n",
              " 'of',\n",
              " 'India',\n",
              " 'from',\n",
              " 'Rajpath',\n",
              " ',',\n",
              " 'New',\n",
              " 'Delhi',\n",
              " '.',\n",
              " 'Mesmerizing',\n",
              " 'performance',\n",
              " 'by',\n",
              " 'Indian',\n",
              " 'Army',\n",
              " '!',\n",
              " 'Awesome',\n",
              " 'airshow',\n",
              " '!',\n",
              " '@india_official',\n",
              " '@indian_army',\n",
              " '#India',\n",
              " '#70thRepublic_Day',\n",
              " '.',\n",
              " 'For',\n",
              " 'more',\n",
              " 'photos',\n",
              " 'ping',\n",
              " 'me',\n",
              " 'sunil@photoking.com',\n",
              " ':)',\n",
              " '\"']"
            ]
          },
          "metadata": {},
          "execution_count": 17
        }
      ]
    },
    {
      "cell_type": "code",
      "source": [
        "from nltk.tokenize import MWETokenizer\n",
        "mwe_tokenizer = MWETokenizer([('Republic', 'Day')])\n",
        "mwe_tokenizer.add_mwe(('Indian', 'Army'))\n",
        "mwe_tokenizer.tokenize(sentence.split())"
      ],
      "metadata": {
        "colab": {
          "base_uri": "https://localhost:8080/"
        },
        "id": "Sgb9yyDzAck4",
        "outputId": "8ab1399d-b183-4d6d-dcbf-8c9063c35174"
      },
      "execution_count": 18,
      "outputs": [
        {
          "output_type": "execute_result",
          "data": {
            "text/plain": [
              "['Sunil',\n",
              " 'tweeted,',\n",
              " '\"Witnessing',\n",
              " '70th',\n",
              " 'Republic_Day',\n",
              " 'of',\n",
              " 'India',\n",
              " 'from',\n",
              " 'Rajpath,',\n",
              " 'New',\n",
              " 'Delhi.',\n",
              " 'Mesmerizing',\n",
              " 'performance',\n",
              " 'by',\n",
              " 'Indian',\n",
              " 'Army!',\n",
              " 'Awesome',\n",
              " 'airshow!',\n",
              " '@india_official',\n",
              " '@indian_army',\n",
              " '#India',\n",
              " '#70thRepublic_Day.',\n",
              " 'For',\n",
              " 'more',\n",
              " 'photos',\n",
              " 'ping',\n",
              " 'me',\n",
              " 'sunil@photoking.com',\n",
              " ':)\"']"
            ]
          },
          "metadata": {},
          "execution_count": 18
        }
      ]
    },
    {
      "cell_type": "code",
      "source": [
        "mwe_tokenizer.tokenize(sentence.replace('!', '').split())"
      ],
      "metadata": {
        "colab": {
          "base_uri": "https://localhost:8080/"
        },
        "id": "LzjzCl1XA8Ti",
        "outputId": "24fa44ad-e714-49e7-c1e9-d85b1f8b6c8b"
      },
      "execution_count": 19,
      "outputs": [
        {
          "output_type": "execute_result",
          "data": {
            "text/plain": [
              "['Sunil',\n",
              " 'tweeted,',\n",
              " '\"Witnessing',\n",
              " '70th',\n",
              " 'Republic_Day',\n",
              " 'of',\n",
              " 'India',\n",
              " 'from',\n",
              " 'Rajpath,',\n",
              " 'New',\n",
              " 'Delhi.',\n",
              " 'Mesmerizing',\n",
              " 'performance',\n",
              " 'by',\n",
              " 'Indian_Army',\n",
              " 'Awesome',\n",
              " 'airshow',\n",
              " '@india_official',\n",
              " '@indian_army',\n",
              " '#India',\n",
              " '#70thRepublic_Day.',\n",
              " 'For',\n",
              " 'more',\n",
              " 'photos',\n",
              " 'ping',\n",
              " 'me',\n",
              " 'sunil@photoking.com',\n",
              " ':)\"']"
            ]
          },
          "metadata": {},
          "execution_count": 19
        }
      ]
    },
    {
      "cell_type": "code",
      "source": [
        "from nltk.tokenize import RegexpTokenizer\n",
        "reg_tokenizer = RegexpTokenizer('\\w+|\\$[\\d\\.]+|\\S+')\n",
        "reg_tokenizer.tokenize(sentence)"
      ],
      "metadata": {
        "colab": {
          "base_uri": "https://localhost:8080/"
        },
        "id": "Rc8TXEWEBMdi",
        "outputId": "f85ddd93-0aef-4a5c-a4ad-598a03af7c04"
      },
      "execution_count": 20,
      "outputs": [
        {
          "output_type": "execute_result",
          "data": {
            "text/plain": [
              "['Sunil',\n",
              " 'tweeted',\n",
              " ',',\n",
              " '\"Witnessing',\n",
              " '70th',\n",
              " 'Republic',\n",
              " 'Day',\n",
              " 'of',\n",
              " 'India',\n",
              " 'from',\n",
              " 'Rajpath',\n",
              " ',',\n",
              " 'New',\n",
              " 'Delhi',\n",
              " '.',\n",
              " 'Mesmerizing',\n",
              " 'performance',\n",
              " 'by',\n",
              " 'Indian',\n",
              " 'Army',\n",
              " '!',\n",
              " 'Awesome',\n",
              " 'airshow',\n",
              " '!',\n",
              " '@india_official',\n",
              " '@indian_army',\n",
              " '#India',\n",
              " '#70thRepublic_Day.',\n",
              " 'For',\n",
              " 'more',\n",
              " 'photos',\n",
              " 'ping',\n",
              " 'me',\n",
              " 'sunil',\n",
              " '@photoking.com',\n",
              " ':)\"']"
            ]
          },
          "metadata": {},
          "execution_count": 20
        }
      ]
    },
    {
      "cell_type": "code",
      "source": [
        "from nltk.tokenize import WhitespaceTokenizer\n",
        "wh_tokenizer = WhitespaceTokenizer()\n",
        "wh_tokenizer.tokenize(sentence)"
      ],
      "metadata": {
        "colab": {
          "base_uri": "https://localhost:8080/"
        },
        "id": "ik_afHMgBhwT",
        "outputId": "4c7e65c1-8ce6-4d0a-df6f-58a2767adc38"
      },
      "execution_count": 21,
      "outputs": [
        {
          "output_type": "execute_result",
          "data": {
            "text/plain": [
              "['Sunil',\n",
              " 'tweeted,',\n",
              " '\"Witnessing',\n",
              " '70th',\n",
              " 'Republic',\n",
              " 'Day',\n",
              " 'of',\n",
              " 'India',\n",
              " 'from',\n",
              " 'Rajpath,',\n",
              " 'New',\n",
              " 'Delhi.',\n",
              " 'Mesmerizing',\n",
              " 'performance',\n",
              " 'by',\n",
              " 'Indian',\n",
              " 'Army!',\n",
              " 'Awesome',\n",
              " 'airshow!',\n",
              " '@india_official',\n",
              " '@indian_army',\n",
              " '#India',\n",
              " '#70thRepublic_Day.',\n",
              " 'For',\n",
              " 'more',\n",
              " 'photos',\n",
              " 'ping',\n",
              " 'me',\n",
              " 'sunil@photoking.com',\n",
              " ':)\"']"
            ]
          },
          "metadata": {},
          "execution_count": 21
        }
      ]
    },
    {
      "cell_type": "code",
      "source": [
        "from nltk.tokenize import WordPunctTokenizer\n",
        "wp_tokenizer = WordPunctTokenizer()\n",
        "wp_tokenizer.tokenize(sentence)"
      ],
      "metadata": {
        "colab": {
          "base_uri": "https://localhost:8080/"
        },
        "id": "R1bPmGjICD46",
        "outputId": "1301c8b0-5f50-481f-b66e-503038ddf707"
      },
      "execution_count": 22,
      "outputs": [
        {
          "output_type": "execute_result",
          "data": {
            "text/plain": [
              "['Sunil',\n",
              " 'tweeted',\n",
              " ',',\n",
              " '\"',\n",
              " 'Witnessing',\n",
              " '70th',\n",
              " 'Republic',\n",
              " 'Day',\n",
              " 'of',\n",
              " 'India',\n",
              " 'from',\n",
              " 'Rajpath',\n",
              " ',',\n",
              " 'New',\n",
              " 'Delhi',\n",
              " '.',\n",
              " 'Mesmerizing',\n",
              " 'performance',\n",
              " 'by',\n",
              " 'Indian',\n",
              " 'Army',\n",
              " '!',\n",
              " 'Awesome',\n",
              " 'airshow',\n",
              " '!',\n",
              " '@',\n",
              " 'india_official',\n",
              " '@',\n",
              " 'indian_army',\n",
              " '#',\n",
              " 'India',\n",
              " '#',\n",
              " '70thRepublic_Day',\n",
              " '.',\n",
              " 'For',\n",
              " 'more',\n",
              " 'photos',\n",
              " 'ping',\n",
              " 'me',\n",
              " 'sunil',\n",
              " '@',\n",
              " 'photoking',\n",
              " '.',\n",
              " 'com',\n",
              " ':)\"']"
            ]
          },
          "metadata": {},
          "execution_count": 22
        }
      ]
    },
    {
      "cell_type": "markdown",
      "source": [
        "## Converting words in gerund from into base words using\n",
        "## RegexpStemmer\n"
      ],
      "metadata": {
        "id": "oI7UHHAiCaJ9"
      }
    },
    {
      "cell_type": "code",
      "source": [
        "sentence = 'I love playing football'"
      ],
      "metadata": {
        "id": "I6hORo7-CS-o"
      },
      "execution_count": 23,
      "outputs": []
    },
    {
      "cell_type": "code",
      "source": [
        "from nltk.stem import RegexpStemmer\n",
        "regex_stemmer = RegexpStemmer('ing$', min=4)\n",
        "' '.join([regex_stemmer.stem(wd) for wd in sentence.split()])"
      ],
      "metadata": {
        "colab": {
          "base_uri": "https://localhost:8080/",
          "height": 35
        },
        "id": "JbAVEFG5CuBD",
        "outputId": "953c42e3-dec0-40bc-f5f2-31e1c8eb23af"
      },
      "execution_count": 24,
      "outputs": [
        {
          "output_type": "execute_result",
          "data": {
            "application/vnd.google.colaboratory.intrinsic+json": {
              "type": "string"
            },
            "text/plain": [
              "'I love play football'"
            ]
          },
          "metadata": {},
          "execution_count": 24
        }
      ]
    },
    {
      "cell_type": "markdown",
      "source": [
        "## The Porter Stemmer"
      ],
      "metadata": {
        "id": "zzRhdp9hDChX"
      }
    },
    {
      "cell_type": "code",
      "source": [
        "sentence = \"Before eating, it would be nice to sanitize your hands with a sanitizer\"\n",
        "from nltk.stem.porter import *"
      ],
      "metadata": {
        "id": "_dHcxK49C_df"
      },
      "execution_count": 25,
      "outputs": []
    },
    {
      "cell_type": "code",
      "source": [
        "ps_stemmer = PorterStemmer()\n",
        "' '.join([ps_stemmer.stem(wd) for wd in sentence.split()])"
      ],
      "metadata": {
        "colab": {
          "base_uri": "https://localhost:8080/",
          "height": 35
        },
        "id": "VXdE1R-DDWoS",
        "outputId": "133e4ee0-bdf2-4951-8c77-f24bf1155e06"
      },
      "execution_count": 26,
      "outputs": [
        {
          "output_type": "execute_result",
          "data": {
            "application/vnd.google.colaboratory.intrinsic+json": {
              "type": "string"
            },
            "text/plain": [
              "'befor eating, it would be nice to sanit your hand with a sanit'"
            ]
          },
          "metadata": {},
          "execution_count": 26
        }
      ]
    },
    {
      "cell_type": "markdown",
      "source": [
        "## Lemmatization"
      ],
      "metadata": {
        "id": "0fHK9xakEbKq"
      }
    },
    {
      "cell_type": "code",
      "source": [
        "from nltk.stem import WordNetLemmatizer\n",
        "from nltk import word_tokenize\n",
        "nltk.download('wordnet')\n",
        "lemmatizer = WordNetLemmatizer()\n",
        "sentence = \"The products produce by the process today are far better than what it produces generally.\"\n",
        "' '.join([lemmatizer.lemmatize(word) for word in word_tokenize(sentence)])"
      ],
      "metadata": {
        "colab": {
          "base_uri": "https://localhost:8080/",
          "height": 70
        },
        "id": "Lg3II1UnDihm",
        "outputId": "28af50f0-c678-4f80-acee-cbd22334dc8e"
      },
      "execution_count": 27,
      "outputs": [
        {
          "output_type": "stream",
          "name": "stdout",
          "text": [
            "[nltk_data] Downloading package wordnet to /root/nltk_data...\n",
            "[nltk_data]   Package wordnet is already up-to-date!\n"
          ]
        },
        {
          "output_type": "execute_result",
          "data": {
            "application/vnd.google.colaboratory.intrinsic+json": {
              "type": "string"
            },
            "text/plain": [
              "'The product produce by the process today are far better than what it produce generally .'"
            ]
          },
          "metadata": {},
          "execution_count": 27
        }
      ]
    },
    {
      "cell_type": "markdown",
      "source": [
        "## Singularizing and Pluralizing Words"
      ],
      "metadata": {
        "id": "r8Sy7RehFVOe"
      }
    },
    {
      "cell_type": "code",
      "source": [
        "sentence = TextBlob('She sells seashells on the seashore')"
      ],
      "metadata": {
        "id": "aoNh_nDqFLf6"
      },
      "execution_count": 28,
      "outputs": []
    },
    {
      "cell_type": "code",
      "source": [
        "sentence.words"
      ],
      "metadata": {
        "colab": {
          "base_uri": "https://localhost:8080/"
        },
        "id": "Bcqvir4HFifM",
        "outputId": "8f1c1866-8628-4166-c544-88fe93f8581d"
      },
      "execution_count": 29,
      "outputs": [
        {
          "output_type": "execute_result",
          "data": {
            "text/plain": [
              "WordList(['She', 'sells', 'seashells', 'on', 'the', 'seashore'])"
            ]
          },
          "metadata": {},
          "execution_count": 29
        }
      ]
    },
    {
      "cell_type": "code",
      "source": [
        "sentence.words[2].singularize()"
      ],
      "metadata": {
        "colab": {
          "base_uri": "https://localhost:8080/",
          "height": 35
        },
        "id": "i6J8e0r0FkXk",
        "outputId": "51b253fe-d69f-4b4d-cb4a-14cdb4b1e383"
      },
      "execution_count": 30,
      "outputs": [
        {
          "output_type": "execute_result",
          "data": {
            "application/vnd.google.colaboratory.intrinsic+json": {
              "type": "string"
            },
            "text/plain": [
              "'seashell'"
            ]
          },
          "metadata": {},
          "execution_count": 30
        }
      ]
    },
    {
      "cell_type": "code",
      "source": [
        "sentence.words[5].pluralize()"
      ],
      "metadata": {
        "colab": {
          "base_uri": "https://localhost:8080/",
          "height": 35
        },
        "id": "lxEvt_1VFtDz",
        "outputId": "82f27798-10ff-4d17-854c-096ef6f3ce72"
      },
      "execution_count": 31,
      "outputs": [
        {
          "output_type": "execute_result",
          "data": {
            "application/vnd.google.colaboratory.intrinsic+json": {
              "type": "string"
            },
            "text/plain": [
              "'seashores'"
            ]
          },
          "metadata": {},
          "execution_count": 31
        }
      ]
    },
    {
      "cell_type": "markdown",
      "source": [
        "## Language Translation"
      ],
      "metadata": {
        "id": "ScbZT2-WF1r9"
      }
    },
    {
      "cell_type": "code",
      "source": [
        "en_blob = TextBlob(u'muy bien')\n",
        "print(en_blob.translate(from_lang='es', to='en'))"
      ],
      "metadata": {
        "id": "HCEHA85fFxIi"
      },
      "execution_count": null,
      "outputs": []
    },
    {
      "cell_type": "markdown",
      "source": [
        "## Stop-Word Removal"
      ],
      "metadata": {
        "id": "_APJgX9KIQun"
      }
    },
    {
      "cell_type": "code",
      "source": [
        "sentence = \"She sells seashells on the seashore\""
      ],
      "metadata": {
        "id": "uk5eucXmGCnG"
      },
      "execution_count": 33,
      "outputs": []
    },
    {
      "cell_type": "code",
      "source": [
        "custom_stop_word_list = ['she', 'on', 'the', 'am', 'is', 'not']\n",
        "' '.join([word for word in word_tokenize(sentence) if word.lower() not in custom_stop_word_list])"
      ],
      "metadata": {
        "colab": {
          "base_uri": "https://localhost:8080/",
          "height": 35
        },
        "id": "n-bhXrEJIVg1",
        "outputId": "04d08c7b-9684-4819-8230-e44396ba2d61"
      },
      "execution_count": 34,
      "outputs": [
        {
          "output_type": "execute_result",
          "data": {
            "application/vnd.google.colaboratory.intrinsic+json": {
              "type": "string"
            },
            "text/plain": [
              "'sells seashells seashore'"
            ]
          },
          "metadata": {},
          "execution_count": 34
        }
      ]
    },
    {
      "cell_type": "markdown",
      "source": [
        "## Extracting General Features from Raw Text"
      ],
      "metadata": {
        "id": "DrFQE9zX-oOX"
      }
    },
    {
      "cell_type": "code",
      "source": [
        "import pandas as pd\n",
        "df = pd.DataFrame([['The interim budget for 2019 will be anonunced on 1st February.'],\n",
        "                   ['Do you know how much expectation the middle-class working population is having from the budget?'],\n",
        "                   ['February is the most shortest month in a year.'], ['This financial year will end on 31st March.']])\n",
        "df.columns = ['text']\n",
        "df"
      ],
      "metadata": {
        "colab": {
          "base_uri": "https://localhost:8080/",
          "height": 175
        },
        "id": "YmZu7DHb-nyL",
        "outputId": "aca95d59-f0b3-41a5-e579-adeed15771bb"
      },
      "execution_count": 35,
      "outputs": [
        {
          "output_type": "execute_result",
          "data": {
            "text/html": [
              "\n",
              "  <div id=\"df-9b724c86-f15d-48e1-8d63-c28f3fd97d59\">\n",
              "    <div class=\"colab-df-container\">\n",
              "      <div>\n",
              "<style scoped>\n",
              "    .dataframe tbody tr th:only-of-type {\n",
              "        vertical-align: middle;\n",
              "    }\n",
              "\n",
              "    .dataframe tbody tr th {\n",
              "        vertical-align: top;\n",
              "    }\n",
              "\n",
              "    .dataframe thead th {\n",
              "        text-align: right;\n",
              "    }\n",
              "</style>\n",
              "<table border=\"1\" class=\"dataframe\">\n",
              "  <thead>\n",
              "    <tr style=\"text-align: right;\">\n",
              "      <th></th>\n",
              "      <th>text</th>\n",
              "    </tr>\n",
              "  </thead>\n",
              "  <tbody>\n",
              "    <tr>\n",
              "      <th>0</th>\n",
              "      <td>The interim budget for 2019 will be anonunced ...</td>\n",
              "    </tr>\n",
              "    <tr>\n",
              "      <th>1</th>\n",
              "      <td>Do you know how much expectation the middle-cl...</td>\n",
              "    </tr>\n",
              "    <tr>\n",
              "      <th>2</th>\n",
              "      <td>February is the most shortest month in a year.</td>\n",
              "    </tr>\n",
              "    <tr>\n",
              "      <th>3</th>\n",
              "      <td>This financial year will end on 31st March.</td>\n",
              "    </tr>\n",
              "  </tbody>\n",
              "</table>\n",
              "</div>\n",
              "      <button class=\"colab-df-convert\" onclick=\"convertToInteractive('df-9b724c86-f15d-48e1-8d63-c28f3fd97d59')\"\n",
              "              title=\"Convert this dataframe to an interactive table.\"\n",
              "              style=\"display:none;\">\n",
              "        \n",
              "  <svg xmlns=\"http://www.w3.org/2000/svg\" height=\"24px\"viewBox=\"0 0 24 24\"\n",
              "       width=\"24px\">\n",
              "    <path d=\"M0 0h24v24H0V0z\" fill=\"none\"/>\n",
              "    <path d=\"M18.56 5.44l.94 2.06.94-2.06 2.06-.94-2.06-.94-.94-2.06-.94 2.06-2.06.94zm-11 1L8.5 8.5l.94-2.06 2.06-.94-2.06-.94L8.5 2.5l-.94 2.06-2.06.94zm10 10l.94 2.06.94-2.06 2.06-.94-2.06-.94-.94-2.06-.94 2.06-2.06.94z\"/><path d=\"M17.41 7.96l-1.37-1.37c-.4-.4-.92-.59-1.43-.59-.52 0-1.04.2-1.43.59L10.3 9.45l-7.72 7.72c-.78.78-.78 2.05 0 2.83L4 21.41c.39.39.9.59 1.41.59.51 0 1.02-.2 1.41-.59l7.78-7.78 2.81-2.81c.8-.78.8-2.07 0-2.86zM5.41 20L4 18.59l7.72-7.72 1.47 1.35L5.41 20z\"/>\n",
              "  </svg>\n",
              "      </button>\n",
              "      \n",
              "  <style>\n",
              "    .colab-df-container {\n",
              "      display:flex;\n",
              "      flex-wrap:wrap;\n",
              "      gap: 12px;\n",
              "    }\n",
              "\n",
              "    .colab-df-convert {\n",
              "      background-color: #E8F0FE;\n",
              "      border: none;\n",
              "      border-radius: 50%;\n",
              "      cursor: pointer;\n",
              "      display: none;\n",
              "      fill: #1967D2;\n",
              "      height: 32px;\n",
              "      padding: 0 0 0 0;\n",
              "      width: 32px;\n",
              "    }\n",
              "\n",
              "    .colab-df-convert:hover {\n",
              "      background-color: #E2EBFA;\n",
              "      box-shadow: 0px 1px 2px rgba(60, 64, 67, 0.3), 0px 1px 3px 1px rgba(60, 64, 67, 0.15);\n",
              "      fill: #174EA6;\n",
              "    }\n",
              "\n",
              "    [theme=dark] .colab-df-convert {\n",
              "      background-color: #3B4455;\n",
              "      fill: #D2E3FC;\n",
              "    }\n",
              "\n",
              "    [theme=dark] .colab-df-convert:hover {\n",
              "      background-color: #434B5C;\n",
              "      box-shadow: 0px 1px 3px 1px rgba(0, 0, 0, 0.15);\n",
              "      filter: drop-shadow(0px 1px 2px rgba(0, 0, 0, 0.3));\n",
              "      fill: #FFFFFF;\n",
              "    }\n",
              "  </style>\n",
              "\n",
              "      <script>\n",
              "        const buttonEl =\n",
              "          document.querySelector('#df-9b724c86-f15d-48e1-8d63-c28f3fd97d59 button.colab-df-convert');\n",
              "        buttonEl.style.display =\n",
              "          google.colab.kernel.accessAllowed ? 'block' : 'none';\n",
              "\n",
              "        async function convertToInteractive(key) {\n",
              "          const element = document.querySelector('#df-9b724c86-f15d-48e1-8d63-c28f3fd97d59');\n",
              "          const dataTable =\n",
              "            await google.colab.kernel.invokeFunction('convertToInteractive',\n",
              "                                                     [key], {});\n",
              "          if (!dataTable) return;\n",
              "\n",
              "          const docLinkHtml = 'Like what you see? Visit the ' +\n",
              "            '<a target=\"_blank\" href=https://colab.research.google.com/notebooks/data_table.ipynb>data table notebook</a>'\n",
              "            + ' to learn more about interactive tables.';\n",
              "          element.innerHTML = '';\n",
              "          dataTable['output_type'] = 'display_data';\n",
              "          await google.colab.output.renderOutput(dataTable, element);\n",
              "          const docLink = document.createElement('div');\n",
              "          docLink.innerHTML = docLinkHtml;\n",
              "          element.appendChild(docLink);\n",
              "        }\n",
              "      </script>\n",
              "    </div>\n",
              "  </div>\n",
              "  "
            ],
            "text/plain": [
              "                                                text\n",
              "0  The interim budget for 2019 will be anonunced ...\n",
              "1  Do you know how much expectation the middle-cl...\n",
              "2     February is the most shortest month in a year.\n",
              "3        This financial year will end on 31st March."
            ]
          },
          "metadata": {},
          "execution_count": 35
        }
      ]
    },
    {
      "cell_type": "code",
      "source": [
        "from textblob import TextBlob\n",
        "df['number_of_words'] = df['text'].apply(lambda x: len(TextBlob(str(x)).words))\n",
        "df['number_of_words']"
      ],
      "metadata": {
        "colab": {
          "base_uri": "https://localhost:8080/"
        },
        "id": "j2zkgAjF-VJ5",
        "outputId": "17a7b62d-7d1c-4c44-a8e9-db17291e6065"
      },
      "execution_count": 36,
      "outputs": [
        {
          "output_type": "execute_result",
          "data": {
            "text/plain": [
              "0    11\n",
              "1    15\n",
              "2     9\n",
              "3     8\n",
              "Name: number_of_words, dtype: int64"
            ]
          },
          "metadata": {},
          "execution_count": 36
        }
      ]
    },
    {
      "cell_type": "code",
      "source": [
        "wh_words = set(['why', 'who', 'which', 'what', 'where', 'when', 'how'])\n",
        "df['is_wh_words_present'] = df['text'].apply(lambda x: True if \\\n",
        "                                             len(set(TextBlob(str(x))\n",
        "                                             .words).intersection(wh_words))>0 else False)\n",
        "df['is_wh_words_present']"
      ],
      "metadata": {
        "colab": {
          "base_uri": "https://localhost:8080/"
        },
        "id": "2_xovAk7BI7R",
        "outputId": "0f783838-ee81-4457-fa91-012a8fac8f1c"
      },
      "execution_count": 37,
      "outputs": [
        {
          "output_type": "execute_result",
          "data": {
            "text/plain": [
              "0    False\n",
              "1     True\n",
              "2    False\n",
              "3    False\n",
              "Name: is_wh_words_present, dtype: bool"
            ]
          },
          "metadata": {},
          "execution_count": 37
        }
      ]
    },
    {
      "cell_type": "code",
      "source": [
        "df['polarity'] = df['text'].apply(lambda x: TextBlob(str(x)).sentiment.polarity)\n",
        "df['polarity']"
      ],
      "metadata": {
        "colab": {
          "base_uri": "https://localhost:8080/"
        },
        "id": "z2wsR2GwC4tq",
        "outputId": "bba86e56-471c-4ee9-ddad-933cb8b1dd2c"
      },
      "execution_count": 38,
      "outputs": [
        {
          "output_type": "execute_result",
          "data": {
            "text/plain": [
              "0    0.0\n",
              "1    0.2\n",
              "2    0.5\n",
              "3    0.0\n",
              "Name: polarity, dtype: float64"
            ]
          },
          "metadata": {},
          "execution_count": 38
        }
      ]
    },
    {
      "cell_type": "code",
      "source": [
        "df['subjectivity'] = df['text'].apply(lambda x: TextBlob(str(x)).sentiment.subjectivity)\n",
        "df['subjectivity']"
      ],
      "metadata": {
        "colab": {
          "base_uri": "https://localhost:8080/"
        },
        "id": "rs_MBrslDS0c",
        "outputId": "65c976cd-3584-4166-df72-5487b92181d8"
      },
      "execution_count": 39,
      "outputs": [
        {
          "output_type": "execute_result",
          "data": {
            "text/plain": [
              "0    0.0\n",
              "1    0.2\n",
              "2    0.5\n",
              "3    0.0\n",
              "Name: subjectivity, dtype: float64"
            ]
          },
          "metadata": {},
          "execution_count": 39
        }
      ]
    },
    {
      "cell_type": "code",
      "source": [
        "df['language'] = df['text'].apply(lambda x: TextBlob(str(x)).detect_language())\n",
        "df['language']"
      ],
      "metadata": {
        "id": "Dhd-O5qfD9Gj"
      },
      "execution_count": null,
      "outputs": []
    }
  ]
}